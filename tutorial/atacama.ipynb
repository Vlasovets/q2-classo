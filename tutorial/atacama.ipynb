{
 "cells": [
  {
   "cell_type": "markdown",
   "metadata": {
    "ExecuteTime": {
     "end_time": "2020-11-06T08:22:14.807224Z",
     "start_time": "2020-11-06T08:22:14.697114Z"
    }
   },
   "source": [
    "# QIIME 2 enables comprehensive end-to-end analysis of diverse microbiome data and comparative studies with publicly available data\n",
    "\n",
    "this is a QIIME 2 Artifact CLI notebook which replicated analyses in the QIIME 2 protocol\n",
    "\n",
    "**environment:** qiime2-2020.2"
   ]
  },
  {
   "cell_type": "markdown",
   "metadata": {},
   "source": [
    "Use this version of [q2-classo](https://github.com/Leo-Simpson/q2-classo/tree/edbf9d20fed931cbc1cff77f5634bb0dcd783c8a) "
   ]
  },
  {
   "cell_type": "code",
   "execution_count": 1,
   "metadata": {
    "ExecuteTime": {
     "end_time": "2021-09-20T13:56:34.818843Z",
     "start_time": "2021-09-20T13:56:31.042494Z"
    },
    "scrolled": true
   },
   "outputs": [
    {
     "name": "stdout",
     "output_type": "stream",
     "text": [
      "Requirement already satisfied: c-lasso in /opt/conda/envs/qiime2-2021.4/lib/python3.8/site-packages (1.0.11)\r\n",
      "Requirement already satisfied: scipy in /opt/conda/envs/qiime2-2021.4/lib/python3.8/site-packages (from c-lasso) (1.6.2)\r\n",
      "Requirement already satisfied: numpy in /opt/conda/envs/qiime2-2021.4/lib/python3.8/site-packages (from c-lasso) (1.22.4)\r\n",
      "Requirement already satisfied: h5py in /opt/conda/envs/qiime2-2021.4/lib/python3.8/site-packages (from c-lasso) (3.2.1)\r\n",
      "Note: you may need to restart the kernel to use updated packages.\n"
     ]
    }
   ],
   "source": [
    "pip install --upgrade c-lasso"
   ]
  },
  {
   "cell_type": "code",
   "execution_count": 2,
   "metadata": {},
   "outputs": [
    {
     "name": "stdout",
     "output_type": "stream",
     "text": [
      "Requirement already satisfied: c-lasso in /opt/conda/envs/qiime2-2021.4/lib/python3.8/site-packages (1.0.11)\r\n",
      "Requirement already satisfied: numpy in /opt/conda/envs/qiime2-2021.4/lib/python3.8/site-packages (from c-lasso) (1.22.4)\r\n",
      "Requirement already satisfied: h5py in /opt/conda/envs/qiime2-2021.4/lib/python3.8/site-packages (from c-lasso) (3.2.1)\r\n",
      "Requirement already satisfied: scipy in /opt/conda/envs/qiime2-2021.4/lib/python3.8/site-packages (from c-lasso) (1.6.2)\r\n",
      "Note: you may need to restart the kernel to use updated packages.\n"
     ]
    }
   ],
   "source": [
    "pip install c-lasso"
   ]
  },
  {
   "cell_type": "code",
   "execution_count": 3,
   "metadata": {},
   "outputs": [
    {
     "name": "stdout",
     "output_type": "stream",
     "text": [
      "Requirement already satisfied: zarr in /opt/conda/envs/qiime2-2021.4/lib/python3.8/site-packages (2.16.1)\r\n",
      "Requirement already satisfied: asciitree in /opt/conda/envs/qiime2-2021.4/lib/python3.8/site-packages (from zarr) (0.3.3)\r\n",
      "Requirement already satisfied: numpy!=1.21.0,>=1.20 in /opt/conda/envs/qiime2-2021.4/lib/python3.8/site-packages (from zarr) (1.22.4)\r\n",
      "Requirement already satisfied: numcodecs>=0.10.0 in /opt/conda/envs/qiime2-2021.4/lib/python3.8/site-packages (from zarr) (0.11.0)\r\n",
      "Requirement already satisfied: fasteners in /opt/conda/envs/qiime2-2021.4/lib/python3.8/site-packages (from zarr) (0.19)\r\n",
      "Requirement already satisfied: entrypoints in /opt/conda/envs/qiime2-2021.4/lib/python3.8/site-packages (from numcodecs>=0.10.0->zarr) (0.3)\r\n",
      "Note: you may need to restart the kernel to use updated packages.\n"
     ]
    }
   ],
   "source": [
    "pip install zarr"
   ]
  },
  {
   "cell_type": "code",
   "execution_count": 10,
   "metadata": {},
   "outputs": [
    {
     "name": "stdout",
     "output_type": "stream",
     "text": [
      "Requirement already satisfied: plotly in /opt/conda/envs/qiime2-2021.4/lib/python3.8/site-packages (5.17.0)\r\n",
      "Requirement already satisfied: packaging in /opt/conda/envs/qiime2-2021.4/lib/python3.8/site-packages (from plotly) (23.1)\r\n",
      "Requirement already satisfied: tenacity>=6.2.0 in /opt/conda/envs/qiime2-2021.4/lib/python3.8/site-packages (from plotly) (8.2.3)\r\n",
      "Note: you may need to restart the kernel to use updated packages.\n"
     ]
    }
   ],
   "source": [
    "pip install plotly"
   ]
  },
  {
   "cell_type": "code",
   "execution_count": 2,
   "metadata": {
    "ExecuteTime": {
     "end_time": "2021-09-20T13:56:36.090622Z",
     "start_time": "2021-09-20T13:56:35.977046Z"
    }
   },
   "outputs": [
    {
     "name": "stdout",
     "output_type": "stream",
     "text": [
      "/data\n"
     ]
    }
   ],
   "source": [
    "cd .."
   ]
  },
  {
   "cell_type": "code",
   "execution_count": 3,
   "metadata": {
    "tags": []
   },
   "outputs": [
    {
     "name": "stdout",
     "output_type": "stream",
     "text": [
      "running install\r\n",
      "running bdist_egg\r\n",
      "running egg_info\r\n",
      "writing q2_classo.egg-info/PKG-INFO\r\n",
      "writing dependency_links to q2_classo.egg-info/dependency_links.txt\r\n",
      "writing entry points to q2_classo.egg-info/entry_points.txt\r\n",
      "writing top-level names to q2_classo.egg-info/top_level.txt\r\n",
      "reading manifest file 'q2_classo.egg-info/SOURCES.txt'\r\n",
      "writing manifest file 'q2_classo.egg-info/SOURCES.txt'\r\n",
      "installing library code to build/bdist.linux-x86_64/egg\r\n",
      "running install_lib\r\n",
      "running build_py\r\n",
      "copying q2_classo/_summarize/_visualizer.py -> build/lib/q2_classo/_summarize\r\n",
      "creating build/bdist.linux-x86_64\r\n",
      "creating build/bdist.linux-x86_64/egg\r\n",
      "creating build/bdist.linux-x86_64/egg/q2_classo\r\n",
      "copying build/lib/q2_classo/_dict.py -> build/bdist.linux-x86_64/egg/q2_classo\r\n",
      "copying build/lib/q2_classo/_tree.py -> build/bdist.linux-x86_64/egg/q2_classo\r\n",
      "creating build/bdist.linux-x86_64/egg/q2_classo/_summarize\r\n",
      "copying build/lib/q2_classo/_summarize/_visualizer.py -> build/bdist.linux-x86_64/egg/q2_classo/_summarize\r\n",
      "creating build/bdist.linux-x86_64/egg/q2_classo/_summarize/form\r\n",
      "copying build/lib/q2_classo/_summarize/form/R2.png -> build/bdist.linux-x86_64/egg/q2_classo/_summarize/form\r\n",
      "copying build/lib/q2_classo/_summarize/form/R4.png -> build/bdist.linux-x86_64/egg/q2_classo/_summarize/form\r\n",
      "copying build/lib/q2_classo/_summarize/form/R3.png -> build/bdist.linux-x86_64/egg/q2_classo/_summarize/form\r\n",
      "copying build/lib/q2_classo/_summarize/form/R1.png -> build/bdist.linux-x86_64/egg/q2_classo/_summarize/form\r\n",
      "copying build/lib/q2_classo/_summarize/form/C2.png -> build/bdist.linux-x86_64/egg/q2_classo/_summarize/form\r\n",
      "copying build/lib/q2_classo/_summarize/form/C1.png -> build/bdist.linux-x86_64/egg/q2_classo/_summarize/form\r\n",
      "copying build/lib/q2_classo/_summarize/__init__.py -> build/bdist.linux-x86_64/egg/q2_classo/_summarize\r\n",
      "creating build/bdist.linux-x86_64/egg/q2_classo/_summarize/assets\r\n",
      "copying build/lib/q2_classo/_summarize/assets/cv.html -> build/bdist.linux-x86_64/egg/q2_classo/_summarize/assets\r\n",
      "copying build/lib/q2_classo/_summarize/assets/path.html -> build/bdist.linux-x86_64/egg/q2_classo/_summarize/assets\r\n",
      "copying build/lib/q2_classo/_summarize/assets/lam-fixed.html -> build/bdist.linux-x86_64/egg/q2_classo/_summarize/assets\r\n",
      "copying build/lib/q2_classo/_summarize/assets/overview.html -> build/bdist.linux-x86_64/egg/q2_classo/_summarize/assets\r\n",
      "copying build/lib/q2_classo/_summarize/assets/stabsel.html -> build/bdist.linux-x86_64/egg/q2_classo/_summarize/assets\r\n",
      "copying build/lib/q2_classo/_summarize/assets/index.html -> build/bdist.linux-x86_64/egg/q2_classo/_summarize/assets\r\n",
      "copying build/lib/q2_classo/_func.py -> build/bdist.linux-x86_64/egg/q2_classo\r\n",
      "copying build/lib/q2_classo/plugin_setup.py -> build/bdist.linux-x86_64/egg/q2_classo\r\n",
      "copying build/lib/q2_classo/_formats.py -> build/bdist.linux-x86_64/egg/q2_classo\r\n",
      "copying build/lib/q2_classo/test_classo.py -> build/bdist.linux-x86_64/egg/q2_classo\r\n",
      "copying build/lib/q2_classo/__init__.py -> build/bdist.linux-x86_64/egg/q2_classo\r\n",
      "copying build/lib/q2_classo/citations.bib -> build/bdist.linux-x86_64/egg/q2_classo\r\n",
      "byte-compiling build/bdist.linux-x86_64/egg/q2_classo/_dict.py to _dict.cpython-38.pyc\r\n",
      "byte-compiling build/bdist.linux-x86_64/egg/q2_classo/_tree.py to _tree.cpython-38.pyc\r\n",
      "byte-compiling build/bdist.linux-x86_64/egg/q2_classo/_summarize/_visualizer.py to _visualizer.cpython-38.pyc\r\n",
      "byte-compiling build/bdist.linux-x86_64/egg/q2_classo/_summarize/__init__.py to __init__.cpython-38.pyc\r\n",
      "byte-compiling build/bdist.linux-x86_64/egg/q2_classo/_func.py to _func.cpython-38.pyc\r\n",
      "byte-compiling build/bdist.linux-x86_64/egg/q2_classo/plugin_setup.py to plugin_setup.cpython-38.pyc\r\n",
      "byte-compiling build/bdist.linux-x86_64/egg/q2_classo/_formats.py to _formats.cpython-38.pyc\r\n",
      "byte-compiling build/bdist.linux-x86_64/egg/q2_classo/test_classo.py to test_classo.cpython-38.pyc\r\n",
      "byte-compiling build/bdist.linux-x86_64/egg/q2_classo/__init__.py to __init__.cpython-38.pyc\r\n",
      "creating build/bdist.linux-x86_64/egg/EGG-INFO\r\n",
      "copying q2_classo.egg-info/PKG-INFO -> build/bdist.linux-x86_64/egg/EGG-INFO\r\n",
      "copying q2_classo.egg-info/SOURCES.txt -> build/bdist.linux-x86_64/egg/EGG-INFO\r\n",
      "copying q2_classo.egg-info/dependency_links.txt -> build/bdist.linux-x86_64/egg/EGG-INFO\r\n",
      "copying q2_classo.egg-info/entry_points.txt -> build/bdist.linux-x86_64/egg/EGG-INFO\r\n",
      "copying q2_classo.egg-info/not-zip-safe -> build/bdist.linux-x86_64/egg/EGG-INFO\r\n",
      "copying q2_classo.egg-info/top_level.txt -> build/bdist.linux-x86_64/egg/EGG-INFO\r\n",
      "creating 'dist/q2_classo-0.0.0.dev0-py3.8.egg' and adding 'build/bdist.linux-x86_64/egg' to it\r\n",
      "removing 'build/bdist.linux-x86_64/egg' (and everything under it)\r\n",
      "Processing q2_classo-0.0.0.dev0-py3.8.egg\r\n",
      "creating /opt/conda/envs/qiime2-2021.4/lib/python3.8/site-packages/q2_classo-0.0.0.dev0-py3.8.egg\r\n",
      "Extracting q2_classo-0.0.0.dev0-py3.8.egg to /opt/conda/envs/qiime2-2021.4/lib/python3.8/site-packages\r\n",
      "Adding q2-classo 0.0.0.dev0 to easy-install.pth file\r\n",
      "\r\n",
      "Installed /opt/conda/envs/qiime2-2021.4/lib/python3.8/site-packages/q2_classo-0.0.0.dev0-py3.8.egg\r\n",
      "Processing dependencies for q2-classo==0.0.0.dev0\r\n",
      "Finished processing dependencies for q2-classo==0.0.0.dev0\r\n"
     ]
    }
   ],
   "source": [
    "!python setup.py install"
   ]
  },
  {
   "cell_type": "code",
   "execution_count": 4,
   "metadata": {
    "ExecuteTime": {
     "end_time": "2021-09-20T13:56:47.222024Z",
     "start_time": "2021-09-20T13:56:37.576839Z"
    },
    "scrolled": true
   },
   "outputs": [
    {
     "name": "stdout",
     "output_type": "stream",
     "text": [
      "Obtaining file:///data\r\n",
      "Installing collected packages: q2-classo\r\n",
      "  Attempting uninstall: q2-classo\r\n",
      "    Found existing installation: q2-classo 0.0.0.dev0\r\n",
      "    Uninstalling q2-classo-0.0.0.dev0:\r\n",
      "      Successfully uninstalled q2-classo-0.0.0.dev0\r\n",
      "  Running setup.py develop for q2-classo\r\n",
      "Successfully installed q2-classo\r\n"
     ]
    }
   ],
   "source": [
    "!pip install -e ."
   ]
  },
  {
   "cell_type": "code",
   "execution_count": 5,
   "metadata": {
    "ExecuteTime": {
     "end_time": "2021-09-20T13:57:03.353426Z",
     "start_time": "2021-09-20T13:56:51.313792Z"
    }
   },
   "outputs": [
    {
     "name": "stdout",
     "output_type": "stream",
     "text": [
      "\u001B[33mQIIME is caching your current deployment for improved performance. This may take a few moments and should only happen once per deployment.\u001B[0m\r\n"
     ]
    }
   ],
   "source": [
    "!qiime dev refresh-cache"
   ]
  },
  {
   "cell_type": "code",
   "execution_count": 6,
   "metadata": {
    "ExecuteTime": {
     "end_time": "2021-09-20T13:57:03.467526Z",
     "start_time": "2021-09-20T13:57:03.358411Z"
    }
   },
   "outputs": [
    {
     "name": "stdout",
     "output_type": "stream",
     "text": [
      "/data/example/data/atacama\n"
     ]
    }
   ],
   "source": [
    "cd example/data/atacama/"
   ]
  },
  {
   "cell_type": "code",
   "execution_count": 13,
   "outputs": [
    {
     "data": {
      "text/plain": "'5.17.0'"
     },
     "execution_count": 13,
     "metadata": {},
     "output_type": "execute_result"
    }
   ],
   "source": [
    "import plotly as plt\n",
    "plt.__version__"
   ],
   "metadata": {
    "collapsed": false,
    "pycharm": {
     "name": "#%%\n"
    }
   }
  },
  {
   "cell_type": "code",
   "execution_count": 16,
   "outputs": [
    {
     "name": "stdout",
     "output_type": "stream",
     "text": [
      "atacama-sample-metadata.tsv  genus_table_clr.qza      training-targets.qza\r\n",
      "atacama-table.qza            regress-predictions.qza  wcovariates.qza\r\n",
      "ccovariates.qza              regress-xtest.qza        wtaxa.qza\r\n",
      "classification.qza           regress-xtraining.qza    xclr.qza\r\n",
      "classify-xtest.qza           regresstaxa.qza          xcovariates.qza\r\n",
      "classify-xtraining.qza       regresstaxa_1.qzv        xtaxa.qza\r\n",
      "filtered-table.qza           table-summary.qzv\r\n",
      "genus_table.qza              test-targets.qza\r\n"
     ]
    }
   ],
   "source": [
    "ls"
   ],
   "metadata": {
    "collapsed": false,
    "pycharm": {
     "name": "#%%\n"
    }
   }
  },
  {
   "cell_type": "code",
   "execution_count": 16,
   "outputs": [
    {
     "data": {
      "text/plain": "'test.html'"
     },
     "execution_count": 16,
     "metadata": {},
     "output_type": "execute_result"
    }
   ],
   "source": [
    "import plotly.express as px\n",
    "import plotly.io as pio\n",
    "from plotly import graph_objects, express, offline\n",
    "\n",
    "# Create a sample plot\n",
    "fig = px.scatter(x=[1, 2, 3], y=[4, 5, 6])\n",
    "\n",
    "offline.plot(fig, filename=\"test.html\", auto_open=False, image='svg')\n"
   ],
   "metadata": {
    "collapsed": false,
    "pycharm": {
     "name": "#%%\n"
    }
   }
  },
  {
   "cell_type": "code",
   "execution_count": 17,
   "outputs": [
    {
     "name": "stdout",
     "output_type": "stream",
     "text": [
      "Dockerfile  \u001B[0m\u001B[01;34mbuild\u001B[0m/  \u001B[01;34mexample\u001B[0m/    \u001B[01;34mq2_classo.egg-info\u001B[0m/  setup.py    test.html\r\n",
      "README.md   \u001B[01;34mdist\u001B[0m/   \u001B[01;34mq2_classo\u001B[0m/  requirements.txt     test..html  \u001B[01;34mtutorial\u001B[0m/\r\n"
     ]
    }
   ],
   "source": [
    "ls"
   ],
   "metadata": {
    "collapsed": false,
    "pycharm": {
     "name": "#%%\n"
    }
   }
  },
  {
   "cell_type": "markdown",
   "metadata": {},
   "source": [
    "## Filter features"
   ]
  },
  {
   "cell_type": "code",
   "execution_count": 17,
   "metadata": {
    "ExecuteTime": {
     "end_time": "2021-09-20T13:57:17.374234Z",
     "start_time": "2021-09-20T13:57:05.425510Z"
    }
   },
   "outputs": [
    {
     "name": "stdout",
     "output_type": "stream",
     "text": [
      "\u001B[32mSaved FeatureTable[Frequency] to: filtered-table.qza\u001B[0m\n",
      "\u001B[0m"
     ]
    }
   ],
   "source": [
    "# !qiime feature-table filter-features \\\n",
    "#   --i-table atacama-table.qza \\\n",
    "#   --p-min-samples 53 \\\n",
    "#   --o-filtered-table filtered-table.qza"
   ]
  },
  {
   "cell_type": "markdown",
   "metadata": {},
   "source": [
    "## log-contrast and taxa processing"
   ]
  },
  {
   "cell_type": "markdown",
   "metadata": {},
   "source": [
    "Either collapse at genus level, which is the 'easy way', but not really what we want"
   ]
  },
  {
   "cell_type": "code",
   "execution_count": 11,
   "metadata": {},
   "outputs": [
    {
     "name": "stdout",
     "output_type": "stream",
     "text": [
      "\u001B[32mSaved FeatureTable[Frequency] to: genus_table.qza\u001B[0m\n",
      "\u001B[0m"
     ]
    }
   ],
   "source": [
    "!qiime taxa collapse \\\n",
    "  --i-table atacama-table.qza \\\n",
    "  --i-taxonomy classification.qza \\\n",
    "  --p-level 6 \\\n",
    "  --o-collapsed-table genus_table.qza"
   ]
  },
  {
   "cell_type": "code",
   "execution_count": 12,
   "metadata": {
    "ExecuteTime": {
     "end_time": "2021-09-20T14:34:41.317883Z",
     "start_time": "2021-09-20T14:34:07.463038Z"
    }
   },
   "outputs": [
    {
     "name": "stdout",
     "output_type": "stream",
     "text": [
      "\u001B[32mSaved FeatureTable[Frequency] to: genus_table_clr.qza\u001B[0m\n",
      "\u001B[0m"
     ]
    }
   ],
   "source": [
    "!qiime classo transform-features \\\n",
    "     --p-transformation clr \\\n",
    "     --p-coef 0.5 \\\n",
    "     --i-features genus_table.qza \\\n",
    "     --o-x genus_table_clr"
   ]
  },
  {
   "cell_type": "code",
   "execution_count": 13,
   "metadata": {},
   "outputs": [
    {
     "name": "stdout",
     "output_type": "stream",
     "text": [
      "\u001B[32mSaved Visualization to: table-summary.qzv\u001B[0m\n",
      "\u001B[0m"
     ]
    }
   ],
   "source": [
    "!qiime feature-table summarize \\\n",
    "    --i-table filtered-table.qza \\\n",
    "    --o-visualization table-summary.qzv"
   ]
  },
  {
   "cell_type": "code",
   "execution_count": 14,
   "metadata": {},
   "outputs": [
    {
     "name": "stdout",
     "output_type": "stream",
     "text": [
      "\u001B[32mSaved FeatureTable[Frequency] to: xclr.qza\u001B[0m\n",
      "\u001B[0m"
     ]
    }
   ],
   "source": [
    "!qiime classo transform-features \\\n",
    "     --p-transformation clr \\\n",
    "     --p-coef 0.5 \\\n",
    "     --i-features atacama-table.qza \\\n",
    "     --o-x xclr"
   ]
  },
  {
   "cell_type": "code",
   "execution_count": 10,
   "metadata": {
    "ExecuteTime": {
     "end_time": "2021-09-20T14:35:57.661014Z",
     "start_time": "2021-09-20T14:35:13.164378Z"
    }
   },
   "outputs": [
    {
     "name": "stdout",
     "output_type": "stream",
     "text": [
      "\u001B[32mSaved FeatureTable[Frequency] to: xtaxa.qza\u001B[0m\n",
      "\u001B[32mSaved Weights to: wtaxa.qza\u001B[0m\n",
      "\u001B[0m"
     ]
    }
   ],
   "source": [
    "!qiime classo add-taxa \\\n",
    "\t--i-features atacama-table.qza  \\\n",
    "\t--i-taxa classification.qza \\\n",
    "\t--o-x xtaxa \\\n",
    "    --o-aweights wtaxa"
   ]
  },
  {
   "cell_type": "code",
   "execution_count": 23,
   "metadata": {
    "ExecuteTime": {
     "end_time": "2021-09-20T15:02:32.899620Z",
     "start_time": "2021-09-20T15:02:26.965368Z"
    },
    "collapsed": true,
    "jupyter": {
     "outputs_hidden": true
    },
    "scrolled": true,
    "tags": []
   },
   "outputs": [
    {
     "name": "stdout",
     "output_type": "stream",
     "text": [
      "Usage: \u001B[94mqiime classo regress\u001B[0m [OPTIONS]\n",
      "\n",
      "  The function computes the constrainted_sparse_regression vector with\n",
      "  respect to the formulation of regression that is asked and with respect to\n",
      "  the model selection parameters given\n",
      "\n",
      "\u001B[1mInputs\u001B[0m:\n",
      "  \u001B[94m\u001B[4m--i-features\u001B[0m ARTIFACT   Matrix representing the data of the problem\n",
      "    \u001B[32mFeatureTable[Design]\u001B[0m                                            \u001B[35m[required]\u001B[0m\n",
      "  \u001B[94m--i-c\u001B[0m ARTIFACT          Constraint matrix, default is the zero-sum\n",
      "    \u001B[32mConstraintMatrix\u001B[0m                                                \u001B[35m[optional]\u001B[0m\n",
      "  \u001B[94m--i-weights\u001B[0m ARTIFACT    Vector of weights for penalization\n",
      "    \u001B[32mWeights\u001B[0m                                                         \u001B[35m[optional]\u001B[0m\n",
      "\u001B[1mParameters\u001B[0m:\n",
      "  \u001B[94m\u001B[4m--m-y-file\u001B[0m METADATA\n",
      "  \u001B[94m\u001B[4m--m-y-column\u001B[0m COLUMN  \u001B[32mMetadataColumn[Numeric]\u001B[0m\n",
      "                          Vector representing the output of the problem\n",
      "                                                                    \u001B[35m[required]\u001B[0m\n",
      "  \u001B[94m--p-do-yshift\u001B[0m / \u001B[94m--p-no-do-yshift\u001B[0m\n",
      "                          if set to true, then y will be centered\n",
      "                                                              \u001B[35m[default: False]\u001B[0m\n",
      "  \u001B[94m--p-path\u001B[0m / \u001B[94m--p-no-path\u001B[0m  True if path should be computed. Default Value =\n",
      "                          False                                \u001B[35m[default: True]\u001B[0m\n",
      "  \u001B[94m--p-path-numerical-method\u001B[0m TEXT\n",
      "                          name of the numerical method that is used, it can\n",
      "                          be :‘Path-Alg’ (path algorithm) , ‘P-PDS’ (Projected\n",
      "                          primal-dual splitting method) , ‘PF-PDS’\n",
      "                          (Projection-free primal-dual splitting method) or\n",
      "                          ‘DR’ (Douglas-Rachford-type splitting method)\n",
      "                          Default value : ‘choose’, which means that the\n",
      "                          function choose_numerical_method() will choose it\n",
      "                          accordingly to the formulation\n",
      "                                                    \u001B[35m[default: 'not specified']\u001B[0m\n",
      "  \u001B[94m--p-path-n-active\u001B[0m INTEGER\n",
      "                          if it is an integer, then the algo stop computing\n",
      "                          the path when n_active variables are actives. then\n",
      "                          the solution does not change from this point.\n",
      "                          Dafault value : False                   \u001B[35m[default: 0]\u001B[0m\n",
      "  \u001B[94m--p-path-nlam-log\u001B[0m INTEGER\n",
      "                          number of lambdas required, if the list of lambdas\n",
      "                          is not specified, in order to use a log-ratio list\n",
      "                          of lambdas                             \u001B[35m[default: 40]\u001B[0m\n",
      "  \u001B[94m--p-path-lamin-log\u001B[0m NUMBER\n",
      "                          minimum of lambdas required, if the list of lambdas\n",
      "                          is not specified, in order to use a log-ratio list\n",
      "                          of lambdas                           \u001B[35m[default: 0.01]\u001B[0m\n",
      "  \u001B[94m--p-cv\u001B[0m / \u001B[94m--p-no-cv\u001B[0m      True if Cross Validation should be computed.\n",
      "                          Default Value = False                \u001B[35m[default: True]\u001B[0m\n",
      "  \u001B[94m--p-cv-numerical-method\u001B[0m TEXT\n",
      "                          name of the numerical method that is used, it can\n",
      "                          be : ‘Path-Alg’ (path algorithm), ‘P-PDS’ (Projected\n",
      "                          primal-dual splitting method), ‘PF-PDS’\n",
      "                          (Projection-free primal-dual splitting method) or\n",
      "                          ‘DR’ (Douglas-Rachford-type splitting method)\n",
      "                          Default value : ‘choose’, which means that the\n",
      "                          function choose_numerical_method() will choose it\n",
      "                          accordingly to the formulation\n",
      "                                                    \u001B[35m[default: 'not specified']\u001B[0m\n",
      "  \u001B[94m--p-cv-seed\u001B[0m INTEGER     Seed for random values, for an equal seed, the\n",
      "                          result will be the same. If set to False/None:\n",
      "                          pseudo-random vectorsDefault value : None\n",
      "                                                                  \u001B[35m[default: 1]\u001B[0m\n",
      "  \u001B[94m--p-cv-one-se\u001B[0m / \u001B[94m--p-no-cv-one-se\u001B[0m\n",
      "                          if set to True, the selected lambda if computed\n",
      "                          with method ‘one-standard-error’ Default value :\n",
      "                          True                                 \u001B[35m[default: True]\u001B[0m\n",
      "  \u001B[94m--p-cv-subsets\u001B[0m INTEGER  number of subset in the cross validation method.\n",
      "                          Default value : 5                       \u001B[35m[default: 5]\u001B[0m\n",
      "  \u001B[94m--p-cv--nlam\u001B[0m INTEGER    number of lambda in cross-validation path\n",
      "                                                                \u001B[35m[default: 100]\u001B[0m\n",
      "  \u001B[94m--p-cv-lamin\u001B[0m NUMBER     lambda minimum in cross-validation path\n",
      "                                                              \u001B[35m[default: 0.001]\u001B[0m\n",
      "  \u001B[94m--p-cv-logscale\u001B[0m / \u001B[94m--p-no-cv-logscale\u001B[0m\n",
      "                          log scale in cross-validation path   \u001B[35m[default: True]\u001B[0m\n",
      "  \u001B[94m--p-stabsel\u001B[0m / \u001B[94m--p-no-stabsel\u001B[0m\n",
      "                          True if Stability Selection should be computed.\n",
      "                          Default Value = True                 \u001B[35m[default: True]\u001B[0m\n",
      "  \u001B[94m--p-stabsel-numerical-method\u001B[0m TEXT\n",
      "                          name of the numerical method that is used, it can\n",
      "                          be : ‘Path-Alg’ (path algorithm), ‘P-PDS’ (Projected\n",
      "                          primal-dual splitting method), ‘PF-PDS’\n",
      "                          (Projection-free primal-dual splitting method) or\n",
      "                          ‘DR’ (Douglas-Rachford-type splitting method)\n",
      "                          Default value : ‘choose’, which means that the\n",
      "                          function choose_numerical_method() will choose it\n",
      "                          accordingly to the formulation\n",
      "                                                    \u001B[35m[default: 'not specified']\u001B[0m\n",
      "  \u001B[94m--p-stabsel-seed\u001B[0m INTEGER\n",
      "                          Seed for random values, for an equal seed, the\n",
      "                          result will be the same. If set to False/None:\n",
      "                          pseudo-random vectors Default value : None\n",
      "                                                                    \u001B[35m[optional]\u001B[0m\n",
      "  \u001B[94m--p-stabsel-lam\u001B[0m NUMBER  (only used if method = ‘lam’) lam for which the\n",
      "                          lasso should be computed. Default value : -1. which\n",
      "                          means it will be equal to theoretical_lam once it is\n",
      "                          computed                             \u001B[35m[default: -1.0]\u001B[0m\n",
      "  \u001B[94m--p-stabsel-true-lam\u001B[0m / \u001B[94m--p-no-stabsel-true-lam\u001B[0m\n",
      "                          (only used if method = ‘lam’) True if the lambda\n",
      "                          given is the real lambda, False if it\n",
      "                          lambda/lambdamax which is between 0 and 1. If True\n",
      "                          and lam = -1. , then it will takes the value\n",
      "                          n*theoretical_lam. Default value : True\n",
      "                                                               \u001B[35m[default: True]\u001B[0m\n",
      "  \u001B[94m--p-stabsel-method\u001B[0m TEXT ‘first’, ‘lam’ or ‘max’ depending on the type of\n",
      "                          stability selection we do. Default value : ‘first’\n",
      "                                                            \u001B[35m[default: 'first']\u001B[0m\n",
      "  \u001B[94m--p-stabsel-b\u001B[0m INTEGER   number of subsample considered. Default value : 50\n",
      "                                                                 \u001B[35m[default: 50]\u001B[0m\n",
      "  \u001B[94m--p-stabsel-q\u001B[0m INTEGER   number of selected variable per subsample. Default\n",
      "                          value : 10                             \u001B[35m[default: 10]\u001B[0m\n",
      "  \u001B[94m--p-stabsel-percent-ns\u001B[0m NUMBER\n",
      "                          size of subsample relatively to the total amount of\n",
      "                          sample Default value : 0.5            \u001B[35m[default: 0.5]\u001B[0m\n",
      "  \u001B[94m--p-stabsel-lamin\u001B[0m NUMBER\n",
      "                          lamin when computing the lasso-path for method\n",
      "                          ‘max’ Default value : 1e-2           \u001B[35m[default: 0.01]\u001B[0m\n",
      "  \u001B[94m--p-stabsel-threshold\u001B[0m NUMBER\n",
      "                          threhold for stability selection Default value :\n",
      "                          0.7                                   \u001B[35m[default: 0.7]\u001B[0m\n",
      "  \u001B[94m--p-stabsel-threshold-label\u001B[0m NUMBER\n",
      "                          threshold to know when the label should be plot on\n",
      "                          the graph. Default value : 0.4        \u001B[35m[default: 0.4]\u001B[0m\n",
      "  \u001B[94m--p-lamfixed\u001B[0m / \u001B[94m--p-no-lamfixed\u001B[0m\n",
      "                          True if solution for a fixed lambda should be\n",
      "                          computed. Default Value = False      \u001B[35m[default: True]\u001B[0m\n",
      "  \u001B[94m--p-lamfixed-numerical-method\u001B[0m TEXT\n",
      "                          name of the numerical method that is used, it can\n",
      "                          be : ‘Path-Alg’ (path algorithm), ‘P-PDS’ (Projected\n",
      "                          primal-dual splitting method), ‘PF-PDS’\n",
      "                          (Projection-free primal-dual splitting method) or\n",
      "                          ‘DR’ (Douglas-Rachford-type splitting method)\n",
      "                          Default value : ‘choose’, which means that the\n",
      "                          function choose_numerical_method() will choose it\n",
      "                          accordingly to the formulation\n",
      "                                                    \u001B[35m[default: 'not specified']\u001B[0m\n",
      "  \u001B[94m--p-lamfixed-lam\u001B[0m NUMBER lam for which the lasso should be computed. Default\n",
      "                          value : -1 which mean it will be equal to\n",
      "                          theoretical_lam once it is computed  \u001B[35m[default: -1.0]\u001B[0m\n",
      "  \u001B[94m--p-lamfixed-true-lam\u001B[0m / \u001B[94m--p-no-lamfixed-true-lam\u001B[0m\n",
      "                          True if the lambda given is the real lambda, False\n",
      "                          if it lambda/lambdamax which is between 0 and 1. If\n",
      "                          True and lam = -1. , then it will takes the value\n",
      "                          n*theoretical_lam. Default value : True\n",
      "                                                               \u001B[35m[default: True]\u001B[0m\n",
      "  \u001B[94m--p-concomitant\u001B[0m / \u001B[94m--p-no-concomitant\u001B[0m\n",
      "                          True if the formulation of the problem should be\n",
      "                          with an M_estimation of sigma. Default value = True\n",
      "                                                               \u001B[35m[default: True]\u001B[0m\n",
      "  \u001B[94m--p-huber\u001B[0m / \u001B[94m--p-no-huber\u001B[0m\n",
      "                          True if the formulation of the problem should be\n",
      "                          robust Default value = False        \u001B[35m[default: False]\u001B[0m\n",
      "  \u001B[94m--p-rho\u001B[0m NUMBER          Value of rho for robust problem. Default value =\n",
      "                          1.345                               \u001B[35m[default: 1.345]\u001B[0m\n",
      "  \u001B[94m--p-intercept\u001B[0m / \u001B[94m--p-no-intercept\u001B[0m\n",
      "                          if True, the formulation will be with an intercept\n",
      "                                                               \u001B[35m[default: True]\u001B[0m\n",
      "\u001B[1mOutputs\u001B[0m:\n",
      "  \u001B[94m\u001B[4m--o-result\u001B[0m ARTIFACT     Directory format that will contain all information\n",
      "    \u001B[32mCLASSOProblem\u001B[0m         about the problem solved                  \u001B[35m[required]\u001B[0m\n",
      "\u001B[1mMiscellaneous\u001B[0m:\n",
      "  \u001B[94m--output-dir\u001B[0m PATH       Output unspecified results to a directory\n",
      "  \u001B[94m--verbose\u001B[0m / \u001B[94m--quiet\u001B[0m     Display verbose output to stdout and/or stderr\n",
      "                          during execution of this action. Or silence output\n",
      "                          if execution is successful (silence is golden).\n",
      "  \u001B[94m--example-data\u001B[0m PATH     Write example data and exit.\n",
      "  \u001B[94m--citations\u001B[0m             Show citations and exit.\n",
      "  \u001B[94m--help\u001B[0m                  Show this message and exit.\n"
     ]
    }
   ],
   "source": [
    "!qiime classo regress --help"
   ]
  },
  {
   "cell_type": "markdown",
   "metadata": {},
   "source": [
    "## Add covariates"
   ]
  },
  {
   "cell_type": "code",
   "execution_count": 17,
   "metadata": {
    "ExecuteTime": {
     "end_time": "2021-09-20T15:16:45.848163Z",
     "start_time": "2021-09-20T15:16:26.899492Z"
    }
   },
   "outputs": [
    {
     "name": "stdout",
     "output_type": "stream",
     "text": [
      "\u001B[32mSaved FeatureTable[Frequency] to: xcovariates.qza\u001B[0m\n",
      "\u001B[32mSaved ConstraintMatrix to: ccovariates.qza\u001B[0m\n",
      "\u001B[32mSaved Weights to: wcovariates.qza\u001B[0m\n",
      "\u001B[0m"
     ]
    }
   ],
   "source": [
    "!qiime classo add-covariates \\\n",
    "    --i-features xtaxa.qza \\\n",
    "    --i-weights wtaxa.qza \\\n",
    "    --m-covariates-file atacama-sample-metadata.tsv \\\n",
    "    --p-to-add elevation ph\ttoc\tec average-soil-relative-humidity average-soil-temperature \\\n",
    "    --p-w-to-add 1. 0.1 0.1 0.1 1. 1. \\\n",
    "    --o-new-features xcovariates \\\n",
    "    --o-new-c ccovariates \\\n",
    "    --o-new-w wcovariates"
   ]
  },
  {
   "cell_type": "markdown",
   "metadata": {},
   "source": [
    "## Split table"
   ]
  },
  {
   "cell_type": "markdown",
   "metadata": {},
   "source": [
    "Split data into training and testing sets : "
   ]
  },
  {
   "cell_type": "code",
   "execution_count": 23,
   "metadata": {
    "ExecuteTime": {
     "end_time": "2021-09-20T15:17:09.820614Z",
     "start_time": "2021-09-20T15:16:45.874975Z"
    },
    "tags": []
   },
   "outputs": [
    {
     "name": "stdout",
     "output_type": "stream",
     "text": [
      "\u001B[32mSaved FeatureTable[Frequency] to: regress-xtraining.qza\u001B[0m\n",
      "\u001B[32mSaved FeatureTable[Frequency] to: regress-xtest.qza\u001B[0m\n",
      "\u001B[32mSaved SampleData[TrueTargets] to: training-targets.qza\u001B[0m\n",
      "\u001B[32mSaved SampleData[TrueTargets] to: test-targets.qza\u001B[0m\n",
      "\u001B[0m"
     ]
    }
   ],
   "source": [
    "!qiime sample-classifier split-table \\\n",
    "\t--i-table xcovariates.qza \\\n",
    "\t--m-metadata-file atacama-sample-metadata.tsv \\\n",
    "\t--m-metadata-column average-soil-temperature \\\n",
    "\t--p-test-size 0.2 \\\n",
    "\t--p-random-state 42 \\\n",
    "\t--p-stratify False \\\n",
    "\t--o-training-table regress-xtraining \\\n",
    "\t--o-test-table regress-xtest \\\n",
    "    --o-training-targets training-targets.qza \\\n",
    "    --o-test-targets test-targets.qza"
   ]
  },
  {
   "cell_type": "code",
   "execution_count": 22,
   "metadata": {
    "ExecuteTime": {
     "end_time": "2021-09-20T15:17:41.724205Z",
     "start_time": "2021-09-20T15:17:09.840788Z"
    }
   },
   "outputs": [
    {
     "name": "stdout",
     "output_type": "stream",
     "text": [
      "\u001B[32mSaved FeatureTable[Frequency] to: classify-xtraining.qza\u001B[0m\n",
      "\u001B[32mSaved FeatureTable[Frequency] to: classify-xtest.qza\u001B[0m\n",
      "\u001B[32mSaved SampleData[TrueTargets] to: training-targets.qza\u001B[0m\n",
      "\u001B[32mSaved SampleData[TrueTargets] to: test-targets.qza\u001B[0m\n",
      "\u001B[0m"
     ]
    }
   ],
   "source": [
    "!qiime sample-classifier split-table \\\n",
    "\t--i-table xcovariates.qza \\\n",
    "\t--m-metadata-file atacama-sample-metadata.tsv \\\n",
    "\t--m-metadata-column vegetation  \\\n",
    "\t--p-test-size 0.2 \\\n",
    "\t--p-random-state 42 \\\n",
    "\t--p-stratify False \\\n",
    "\t--o-training-table classify-xtraining \\\n",
    "\t--o-test-table classify-xtest \\\n",
    "    --o-training-targets training-targets.qza \\\n",
    "    --o-test-targets test-targets.qza"
   ]
  },
  {
   "cell_type": "markdown",
   "metadata": {},
   "source": [
    "## Regression task "
   ]
  },
  {
   "cell_type": "markdown",
   "metadata": {},
   "source": [
    "Apply classo to the training set to solve the linear regression problem : "
   ]
  },
  {
   "cell_type": "code",
   "execution_count": 24,
   "metadata": {
    "ExecuteTime": {
     "end_time": "2021-07-15T17:57:29.589090Z",
     "start_time": "2021-07-15T17:57:19.024468Z"
    },
    "run_control": {
     "marked": false
    },
    "scrolled": true
   },
   "outputs": [
    {
     "name": "stdout",
     "output_type": "stream",
     "text": [
      "\u001B[32mSaved CLASSOProblem to: regresstaxa.qza\u001B[0m\n",
      "\u001B[0m"
     ]
    }
   ],
   "source": [
    "!qiime classo regress  \\\n",
    "    --i-features regress-xtraining.qza \\\n",
    "    --i-c ccovariates.qza \\\n",
    "    --i-weights wcovariates.qza \\\n",
    "    --m-y-file atacama-sample-metadata.tsv \\\n",
    "    --m-y-column average-soil-temperature  \\\n",
    "    --p-concomitant \\\n",
    "    --p-stabsel \\\n",
    "    --p-cv \\\n",
    "    --p-path \\\n",
    "    --p-lamfixed \\\n",
    "    --p-stabsel-threshold 0.5 \\\n",
    "    --p-cv-seed 1 \\\n",
    "    --p-no-cv-one-se \\\n",
    "    --o-result regresstaxa"
   ]
  },
  {
   "cell_type": "markdown",
   "metadata": {},
   "source": [
    "## Classification task"
   ]
  },
  {
   "cell_type": "code",
   "execution_count": 25,
   "metadata": {
    "ExecuteTime": {
     "end_time": "2021-07-15T17:58:03.597187Z",
     "start_time": "2021-07-15T17:57:36.659998Z"
    }
   },
   "outputs": [
    {
     "name": "stdout",
     "output_type": "stream",
     "text": [
      "^C\n",
      "\n",
      "Aborted!\n"
     ]
    }
   ],
   "source": [
    "!qiime classo classify  \\\n",
    "    --i-features classify-xtraining.qza \\\n",
    "    --i-c ccovariates.qza \\\n",
    "    --i-weights wcovariates.qza \\\n",
    "    --m-y-file atacama-sample-metadata.tsv \\\n",
    "    --m-y-column vegetation  \\\n",
    "    --p-huber \\\n",
    "    --p-stabsel \\\n",
    "    --p-cv \\\n",
    "    --p-path \\\n",
    "    --p-lamfixed \\\n",
    "    --p-stabsel-threshold 0.5 \\\n",
    "    --p-cv-seed 42 \\\n",
    "    --p-no-cv-one-se \\\n",
    "    --o-result classifytaxa"
   ]
  },
  {
   "cell_type": "markdown",
   "metadata": {},
   "source": [
    "## Prediction "
   ]
  },
  {
   "cell_type": "code",
   "execution_count": 26,
   "metadata": {
    "ExecuteTime": {
     "end_time": "2021-07-15T17:58:43.757929Z",
     "start_time": "2021-07-15T17:58:25.089725Z"
    }
   },
   "outputs": [
    {
     "name": "stdout",
     "output_type": "stream",
     "text": [
      "\u001B[32mSaved CLASSOProblem to: regress-predictions.qza\u001B[0m\n",
      "\u001B[0m"
     ]
    }
   ],
   "source": [
    "!qiime classo predict \\\n",
    "    --i-features regress-xtest.qza \\\n",
    "    --i-problem regresstaxa.qza \\\n",
    "    --o-predictions regress-predictions.qza"
   ]
  },
  {
   "cell_type": "code",
   "execution_count": 21,
   "metadata": {
    "ExecuteTime": {
     "end_time": "2021-07-15T17:58:56.428930Z",
     "start_time": "2021-07-15T17:58:43.762533Z"
    },
    "scrolled": true
   },
   "outputs": [
    {
     "name": "stdout",
     "output_type": "stream",
     "text": [
      "\u001B[32mSaved CLASSOProblem to: classify-predictions.qza\u001B[0m\n"
     ]
    }
   ],
   "source": [
    "!qiime classo predict \\\n",
    "    --i-features classify-xtest.qza \\\n",
    "    --i-problem classifytaxa.qza \\\n",
    "    --o-predictions classify-predictions.qza"
   ]
  },
  {
   "cell_type": "markdown",
   "metadata": {},
   "source": [
    "## Visualization"
   ]
  },
  {
   "cell_type": "code",
   "execution_count": 7,
   "outputs": [
    {
     "data": {
      "text/plain": "'/data/example/data/atacama'"
     },
     "execution_count": 7,
     "metadata": {},
     "output_type": "execute_result"
    }
   ],
   "source": [
    "pwd"
   ],
   "metadata": {
    "collapsed": false,
    "pycharm": {
     "name": "#%%\n"
    }
   }
  },
  {
   "cell_type": "code",
   "execution_count": 8,
   "metadata": {
    "ExecuteTime": {
     "end_time": "2021-07-15T17:59:17.853233Z",
     "start_time": "2021-07-15T17:58:56.434650Z"
    },
    "run_control": {
     "marked": false
    }
   },
   "outputs": [
    {
     "name": "stdout",
     "output_type": "stream",
     "text": [
      "\u001B[32mSaved Visualization to: regresstaxa_1.qzv\u001B[0m\r\n"
     ]
    }
   ],
   "source": [
    "!qiime classo summarize \\\n",
    "  --i-problem regresstaxa.qza \\\n",
    "  --i-taxa classification.qza \\\n",
    "  --i-predictions regress-predictions.qza \\\n",
    "  --o-visualization regresstaxa_1.qzv"
   ]
  },
  {
   "cell_type": "code",
   "execution_count": 12,
   "metadata": {
    "ExecuteTime": {
     "end_time": "2021-07-15T17:59:39.267785Z",
     "start_time": "2021-07-15T17:59:17.857817Z"
    },
    "collapsed": true,
    "jupyter": {
     "outputs_hidden": true
    },
    "scrolled": true,
    "tags": []
   },
   "outputs": [
    {
     "name": "stdout",
     "output_type": "stream",
     "text": [
      "/data/q2_classo/_summarize/_visualizer.py:774: FutureWarning:\n",
      "\n",
      "Index.__and__ operating as a set operation is deprecated, in the future this will be a logical operation matching Series.__and__.  Use index.intersection(other) instead\n",
      "\n",
      "/data/q2_classo/_summarize/_visualizer.py:775: FutureWarning:\n",
      "\n",
      "Index.__and__ operating as a set operation is deprecated, in the future this will be a logical operation matching Series.__and__.  Use index.intersection(other) instead\n",
      "\n",
      "/data/q2_classo/_summarize/_visualizer.py:774: FutureWarning:\n",
      "\n",
      "Index.__and__ operating as a set operation is deprecated, in the future this will be a logical operation matching Series.__and__.  Use index.intersection(other) instead\n",
      "\n",
      "/data/q2_classo/_summarize/_visualizer.py:775: FutureWarning:\n",
      "\n",
      "Index.__and__ operating as a set operation is deprecated, in the future this will be a logical operation matching Series.__and__.  Use index.intersection(other) instead\n",
      "\n",
      "/data/q2_classo/_summarize/_visualizer.py:774: FutureWarning:\n",
      "\n",
      "Index.__and__ operating as a set operation is deprecated, in the future this will be a logical operation matching Series.__and__.  Use index.intersection(other) instead\n",
      "\n",
      "/data/q2_classo/_summarize/_visualizer.py:775: FutureWarning:\n",
      "\n",
      "Index.__and__ operating as a set operation is deprecated, in the future this will be a logical operation matching Series.__and__.  Use index.intersection(other) instead\n",
      "\n",
      "\u001B[32mSaved Visualization to: classifytaxa.qzv\u001B[0m\n"
     ]
    }
   ],
   "source": [
    "!qiime classo summarize \\\n",
    "  --i-problem classifytaxa.qza \\\n",
    "  --i-taxa taxonomy.qza \\\n",
    "  --i-predictions classify-predictions.qza \\\n",
    "  --o-visualization classifytaxa.qzv \\\n",
    "  --verbose"
   ]
  },
  {
   "cell_type": "code",
   "execution_count": 24,
   "metadata": {
    "ExecuteTime": {
     "start_time": "2021-09-20T15:20:02.418Z"
    },
    "run_control": {
     "marked": false
    }
   },
   "outputs": [
    {
     "name": "stdout",
     "output_type": "stream",
     "text": [
      "Usage: \u001B[34mqiime tools view\u001B[0m [OPTIONS] VISUALIZATION\n",
      "\n",
      "Error: Visualization viewing is currently not supported in headless environments. You can view Visualizations (and Artifacts) at https://view.qiime2.org, or move the Visualization to an environment with a display and view it with `qiime tools view`.\n"
     ]
    }
   ],
   "source": [
    "!qiime tools view regresstaxa.qzv"
   ]
  },
  {
   "cell_type": "code",
   "execution_count": 25,
   "metadata": {
    "ExecuteTime": {
     "end_time": "2020-11-12T09:42:25.709505Z",
     "start_time": "2020-11-12T09:40:55.073739Z"
    },
    "scrolled": true
   },
   "outputs": [
    {
     "name": "stdout",
     "output_type": "stream",
     "text": [
      "Usage: \u001B[34mqiime tools view\u001B[0m [OPTIONS] VISUALIZATION\n",
      "\n",
      "Error: Visualization viewing is currently not supported in headless environments. You can view Visualizations (and Artifacts) at https://view.qiime2.org, or move the Visualization to an environment with a display and view it with `qiime tools view`.\n"
     ]
    }
   ],
   "source": [
    "!qiime tools view classifytaxa.qzv"
   ]
  },
  {
   "cell_type": "markdown",
   "metadata": {},
   "source": [
    "Alternatively, one can drag&drop the file problemtaxa.qzv on : https://view.qiime2.org\n",
    "Thanks to this alternative, one can also track the workflow that the qiime2 artifact did. "
   ]
  },
  {
   "cell_type": "code",
   "execution_count": 26,
   "metadata": {},
   "outputs": [
    {
     "name": "stdout",
     "output_type": "stream",
     "text": [
      "hello classo!\n"
     ]
    }
   ],
   "source": [
    "print(\"hello classo!\")"
   ]
  }
 ],
 "metadata": {
  "kernelspec": {
   "display_name": "Python 3 (ipykernel)",
   "language": "python",
   "name": "python3"
  },
  "language_info": {
   "codemirror_mode": {
    "name": "ipython",
    "version": 3
   },
   "file_extension": ".py",
   "mimetype": "text/x-python",
   "name": "python",
   "nbconvert_exporter": "python",
   "pygments_lexer": "ipython3",
   "version": "3.8.13"
  },
  "toc": {
   "base_numbering": 1,
   "nav_menu": {},
   "number_sections": true,
   "sideBar": true,
   "skip_h1_title": false,
   "title_cell": "Table of Contents",
   "title_sidebar": "Contents",
   "toc_cell": false,
   "toc_position": {},
   "toc_section_display": true,
   "toc_window_display": false
  }
 },
 "nbformat": 4,
 "nbformat_minor": 4
}