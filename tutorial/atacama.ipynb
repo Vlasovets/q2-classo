{
 "cells": [
  {
   "cell_type": "markdown",
   "metadata": {
    "ExecuteTime": {
     "end_time": "2020-11-06T08:22:14.807224Z",
     "start_time": "2020-11-06T08:22:14.697114Z"
    }
   },
   "source": [
    "# QIIME 2 classo with Atacama soil microbiome\n",
    "\n",
    "**environment:** qiime2-2020.2"
   ]
  },
  {
   "cell_type": "markdown",
   "metadata": {},
   "source": [
    "Use this version of [q2-classo](https://github.com/Leo-Simpson/q2-classo/tree/edbf9d20fed931cbc1cff77f5634bb0dcd783c8a) "
   ]
  },
  {
   "cell_type": "code",
   "execution_count": null,
   "metadata": {
    "ExecuteTime": {
     "end_time": "2021-09-20T13:56:34.818843Z",
     "start_time": "2021-09-20T13:56:31.042494Z"
    },
    "scrolled": true
   },
   "outputs": [],
   "source": [
    "pip install --upgrade c-lasso"
   ]
  },
  {
   "cell_type": "code",
   "execution_count": null,
   "metadata": {},
   "outputs": [],
   "source": [
    "pip install c-lasso"
   ]
  },
  {
   "cell_type": "code",
   "execution_count": null,
   "metadata": {},
   "outputs": [],
   "source": [
    "pip install zarr"
   ]
  },
  {
   "cell_type": "code",
   "execution_count": null,
   "metadata": {},
   "outputs": [],
   "source": [
    "pip install plotly"
   ]
  },
  {
   "cell_type": "code",
   "execution_count": null,
   "metadata": {
    "ExecuteTime": {
     "end_time": "2021-09-20T13:56:36.090622Z",
     "start_time": "2021-09-20T13:56:35.977046Z"
    }
   },
   "outputs": [],
   "source": [
    "cd .."
   ]
  },
  {
   "cell_type": "code",
   "execution_count": null,
   "metadata": {
    "tags": []
   },
   "outputs": [],
   "source": [
    "!python setup.py install"
   ]
  },
  {
   "cell_type": "code",
   "execution_count": null,
   "metadata": {
    "ExecuteTime": {
     "end_time": "2021-09-20T13:56:47.222024Z",
     "start_time": "2021-09-20T13:56:37.576839Z"
    },
    "scrolled": true
   },
   "outputs": [],
   "source": [
    "!pip install -e ."
   ]
  },
  {
   "cell_type": "code",
   "execution_count": null,
   "metadata": {
    "ExecuteTime": {
     "end_time": "2021-09-20T13:57:03.353426Z",
     "start_time": "2021-09-20T13:56:51.313792Z"
    }
   },
   "outputs": [],
   "source": [
    "!qiime dev refresh-cache"
   ]
  },
  {
   "cell_type": "code",
   "execution_count": 9,
   "metadata": {
    "ExecuteTime": {
     "end_time": "2021-09-20T13:57:03.467526Z",
     "start_time": "2021-09-20T13:57:03.358411Z"
    }
   },
   "outputs": [
    {
     "name": "stdout",
     "output_type": "stream",
     "text": [
      "/data/example/data/atacama\n"
     ]
    }
   ],
   "source": [
    "cd example/data/atacama/"
   ]
  },
  {
   "cell_type": "markdown",
   "metadata": {},
   "source": [
    "## Filter features"
   ]
  },
  {
   "cell_type": "code",
   "execution_count": 17,
   "metadata": {
    "ExecuteTime": {
     "end_time": "2021-09-20T13:57:17.374234Z",
     "start_time": "2021-09-20T13:57:05.425510Z"
    }
   },
   "outputs": [
    {
     "name": "stdout",
     "output_type": "stream",
     "text": [
      "\u001b[32mSaved FeatureTable[Frequency] to: filtered-table.qza\u001b[0m\n",
      "\u001b[0m"
     ]
    }
   ],
   "source": [
    "# !qiime feature-table filter-features \\\n",
    "#   --i-table atacama-table.qza \\\n",
    "#   --p-min-samples 53 \\\n",
    "#   --o-filtered-table filtered-table.qza"
   ]
  },
  {
   "cell_type": "markdown",
   "metadata": {},
   "source": [
    "## log-contrast and taxa processing"
   ]
  },
  {
   "cell_type": "markdown",
   "metadata": {},
   "source": [
    "Either collapse at genus level, which is the 'easy way', but not really what we want"
   ]
  },
  {
   "cell_type": "code",
   "execution_count": 14,
   "metadata": {},
   "outputs": [
    {
     "name": "stdout",
     "output_type": "stream",
     "text": [
      "\u001b[32mSaved FeatureTable[Frequency] to: genus_table.qza\u001b[0m\n"
     ]
    }
   ],
   "source": [
    "!qiime taxa collapse \\\n",
    "  --i-table atacama-table.qza \\\n",
    "  --i-taxonomy classification.qza \\\n",
    "  --p-level 6 \\\n",
    "  --o-collapsed-table genus_table.qza"
   ]
  },
  {
   "cell_type": "code",
   "execution_count": 15,
   "metadata": {
    "ExecuteTime": {
     "end_time": "2021-09-20T14:34:41.317883Z",
     "start_time": "2021-09-20T14:34:07.463038Z"
    }
   },
   "outputs": [
    {
     "name": "stdout",
     "output_type": "stream",
     "text": [
      "\u001b[32mSaved FeatureTable[Design] to: genus_table_clr.qza\u001b[0m\n"
     ]
    }
   ],
   "source": [
    "!qiime classo transform-features \\\n",
    "     --p-transformation clr \\\n",
    "     --p-coef 0.5 \\\n",
    "     --i-features genus_table.qza \\\n",
    "     --o-x genus_table_clr"
   ]
  },
  {
   "cell_type": "code",
   "execution_count": 16,
   "metadata": {},
   "outputs": [
    {
     "name": "stdout",
     "output_type": "stream",
     "text": [
      "\u001b[32mSaved Visualization to: table-summary.qzv\u001b[0m\n"
     ]
    }
   ],
   "source": [
    "!qiime feature-table summarize \\\n",
    "    --i-table filtered-table.qza \\\n",
    "    --o-visualization table-summary.qzv"
   ]
  },
  {
   "cell_type": "code",
   "execution_count": 17,
   "metadata": {},
   "outputs": [
    {
     "name": "stdout",
     "output_type": "stream",
     "text": [
      "\u001b[32mSaved FeatureTable[Design] to: xclr.qza\u001b[0m\n"
     ]
    }
   ],
   "source": [
    "!qiime classo transform-features \\\n",
    "     --p-transformation clr \\\n",
    "     --p-coef 0.5 \\\n",
    "     --i-features atacama-table.qza \\\n",
    "     --o-x xclr"
   ]
  },
  {
   "cell_type": "code",
   "execution_count": 21,
   "metadata": {
    "ExecuteTime": {
     "end_time": "2021-09-20T14:35:57.661014Z",
     "start_time": "2021-09-20T14:35:13.164378Z"
    }
   },
   "outputs": [
    {
     "name": "stdout",
     "output_type": "stream",
     "text": [
      "\u001b[32mSaved FeatureTable[Design] to: xtaxa.qza\u001b[0m\n",
      "\u001b[32mSaved Weights to: wtaxa.qza\u001b[0m\n"
     ]
    }
   ],
   "source": [
    "!qiime classo add-taxa \\\n",
    "\t--i-features xclr.qza  \\\n",
    "\t--i-taxa classification.qza \\\n",
    "\t--o-x xtaxa \\\n",
    "    --o-aweights wtaxa"
   ]
  },
  {
   "cell_type": "markdown",
   "metadata": {},
   "source": [
    "## Add covariates"
   ]
  },
  {
   "cell_type": "code",
   "execution_count": 22,
   "metadata": {
    "ExecuteTime": {
     "end_time": "2021-09-20T15:16:45.848163Z",
     "start_time": "2021-09-20T15:16:26.899492Z"
    }
   },
   "outputs": [
    {
     "name": "stdout",
     "output_type": "stream",
     "text": [
      "\u001b[32mSaved FeatureTable[Design] to: xcovariates.qza\u001b[0m\n",
      "\u001b[32mSaved ConstraintMatrix to: ccovariates.qza\u001b[0m\n",
      "\u001b[32mSaved Weights to: wcovariates.qza\u001b[0m\n"
     ]
    }
   ],
   "source": [
    "!qiime classo add-covariates \\\n",
    "    --i-features xtaxa.qza \\\n",
    "    --i-weights wtaxa.qza \\\n",
    "    --m-covariates-file atacama-sample-metadata.tsv \\\n",
    "    --p-to-add elevation ph\ttoc\tec average-soil-relative-humidity average-soil-temperature \\\n",
    "    --p-w-to-add 1. 0.1 0.1 0.1 1. 1. \\\n",
    "    --o-new-features xcovariates \\\n",
    "    --o-new-c ccovariates \\\n",
    "    --o-new-w wcovariates"
   ]
  },
  {
   "cell_type": "markdown",
   "metadata": {},
   "source": [
    "## Split table"
   ]
  },
  {
   "cell_type": "markdown",
   "metadata": {},
   "source": [
    "Split data into training and testing sets : "
   ]
  },
  {
   "cell_type": "code",
   "execution_count": 25,
   "metadata": {
    "ExecuteTime": {
     "end_time": "2021-09-20T15:17:09.820614Z",
     "start_time": "2021-09-20T15:16:45.874975Z"
    },
    "tags": []
   },
   "outputs": [
    {
     "name": "stdout",
     "output_type": "stream",
     "text": [
      "\u001b[32mSaved FeatureTable[Design] to: regress-xtraining.qza\u001b[0m\n",
      "\u001b[32mSaved FeatureTable[Design] to: regress-xtest.qza\u001b[0m\n"
     ]
    }
   ],
   "source": [
    "!qiime sample-classifier split-table \\\n",
    "\t--i-table xcovariates.qza \\\n",
    "\t--m-metadata-file atacama-sample-metadata.tsv \\\n",
    "\t--m-metadata-column average-soil-temperature \\\n",
    "\t--p-test-size 0.2 \\\n",
    "\t--p-random-state 42 \\\n",
    "\t--p-stratify False \\\n",
    "\t--o-training-table regress-xtraining \\\n",
    "\t--o-test-table regress-xtest\n",
    "\n",
    "### in newer version of QIIME use these parameters\n",
    "    # --o-training-targets training-targets.qza \\\n",
    "    # --o-test-targets test-targets.qza"
   ]
  },
  {
   "cell_type": "code",
   "execution_count": 26,
   "metadata": {
    "ExecuteTime": {
     "end_time": "2021-09-20T15:17:41.724205Z",
     "start_time": "2021-09-20T15:17:09.840788Z"
    }
   },
   "outputs": [
    {
     "name": "stdout",
     "output_type": "stream",
     "text": [
      "\u001b[32mSaved FeatureTable[Design] to: classify-xtraining.qza\u001b[0m\n",
      "\u001b[32mSaved FeatureTable[Design] to: classify-xtest.qza\u001b[0m\n"
     ]
    }
   ],
   "source": [
    "!qiime sample-classifier split-table \\\n",
    "\t--i-table xcovariates.qza \\\n",
    "\t--m-metadata-file atacama-sample-metadata.tsv \\\n",
    "\t--m-metadata-column vegetation  \\\n",
    "\t--p-test-size 0.2 \\\n",
    "\t--p-random-state 42 \\\n",
    "\t--p-stratify False \\\n",
    "\t--o-training-table classify-xtraining \\\n",
    "\t--o-test-table classify-xtest\n",
    "\n",
    "### in newer version of QIIME use these parameters\n",
    "    # --o-training-targets training-targets.qza \\\n",
    "    # --o-test-targets test-targets.qza"
   ]
  },
  {
   "cell_type": "markdown",
   "metadata": {},
   "source": [
    "## Regression task "
   ]
  },
  {
   "cell_type": "markdown",
   "metadata": {},
   "source": [
    "Apply classo to the training set to solve the linear regression problem : "
   ]
  },
  {
   "cell_type": "code",
   "execution_count": 27,
   "metadata": {
    "ExecuteTime": {
     "end_time": "2021-07-15T17:57:29.589090Z",
     "start_time": "2021-07-15T17:57:19.024468Z"
    },
    "run_control": {
     "marked": false
    },
    "scrolled": true
   },
   "outputs": [
    {
     "name": "stdout",
     "output_type": "stream",
     "text": [
      "\u001b[32mSaved CLASSOProblem to: regresstaxa.qza\u001b[0m\n"
     ]
    }
   ],
   "source": [
    "!qiime classo regress  \\\n",
    "    --i-features regress-xtraining.qza \\\n",
    "    --i-c ccovariates.qza \\\n",
    "    --i-weights wcovariates.qza \\\n",
    "    --m-y-file atacama-sample-metadata.tsv \\\n",
    "    --m-y-column average-soil-temperature  \\\n",
    "    --p-concomitant \\\n",
    "    --p-stabsel \\\n",
    "    --p-cv \\\n",
    "    --p-path \\\n",
    "    --p-lamfixed \\\n",
    "    --p-stabsel-threshold 0.5 \\\n",
    "    --p-cv-seed 1 \\\n",
    "    --p-no-cv-one-se \\\n",
    "    --o-result regresstaxa"
   ]
  },
  {
   "cell_type": "markdown",
   "metadata": {},
   "source": [
    "## Classification task"
   ]
  },
  {
   "cell_type": "code",
   "execution_count": 28,
   "metadata": {
    "ExecuteTime": {
     "end_time": "2021-07-15T17:58:03.597187Z",
     "start_time": "2021-07-15T17:57:36.659998Z"
    }
   },
   "outputs": [
    {
     "name": "stdout",
     "output_type": "stream",
     "text": [
      "\u001b[32mSaved CLASSOProblem to: classifytaxa.qza\u001b[0m\n"
     ]
    }
   ],
   "source": [
    "!qiime classo classify  \\\n",
    "    --i-features classify-xtraining.qza \\\n",
    "    --i-c ccovariates.qza \\\n",
    "    --i-weights wcovariates.qza \\\n",
    "    --m-y-file atacama-sample-metadata.tsv \\\n",
    "    --m-y-column vegetation  \\\n",
    "    --p-huber \\\n",
    "    --p-stabsel \\\n",
    "    --p-cv \\\n",
    "    --p-path \\\n",
    "    --p-lamfixed \\\n",
    "    --p-stabsel-threshold 0.5 \\\n",
    "    --p-cv-seed 42 \\\n",
    "    --p-no-cv-one-se \\\n",
    "    --o-result classifytaxa"
   ]
  },
  {
   "cell_type": "markdown",
   "metadata": {},
   "source": [
    "## Prediction "
   ]
  },
  {
   "cell_type": "code",
   "execution_count": 29,
   "metadata": {
    "ExecuteTime": {
     "end_time": "2021-07-15T17:58:43.757929Z",
     "start_time": "2021-07-15T17:58:25.089725Z"
    }
   },
   "outputs": [
    {
     "name": "stdout",
     "output_type": "stream",
     "text": [
      "\u001b[32mSaved CLASSOProblem to: regress-predictions.qza\u001b[0m\n"
     ]
    }
   ],
   "source": [
    "!qiime classo predict \\\n",
    "    --i-features regress-xtest.qza \\\n",
    "    --i-problem regresstaxa.qza \\\n",
    "    --o-predictions regress-predictions.qza"
   ]
  },
  {
   "cell_type": "code",
   "execution_count": 30,
   "metadata": {
    "ExecuteTime": {
     "end_time": "2021-07-15T17:58:56.428930Z",
     "start_time": "2021-07-15T17:58:43.762533Z"
    },
    "scrolled": true
   },
   "outputs": [
    {
     "name": "stdout",
     "output_type": "stream",
     "text": [
      "\u001b[32mSaved CLASSOProblem to: classify-predictions.qza\u001b[0m\n"
     ]
    }
   ],
   "source": [
    "!qiime classo predict \\\n",
    "    --i-features classify-xtest.qza \\\n",
    "    --i-problem classifytaxa.qza \\\n",
    "    --o-predictions classify-predictions.qza"
   ]
  },
  {
   "cell_type": "markdown",
   "metadata": {},
   "source": [
    "## Visualization"
   ]
  },
  {
   "cell_type": "code",
   "execution_count": 43,
   "metadata": {
    "ExecuteTime": {
     "end_time": "2021-07-15T17:59:17.853233Z",
     "start_time": "2021-07-15T17:58:56.434650Z"
    },
    "run_control": {
     "marked": false
    }
   },
   "outputs": [
    {
     "name": "stdout",
     "output_type": "stream",
     "text": [
      "\u001b[32mSaved Visualization to: regresstaxa_R3.qzv\u001b[0m\n"
     ]
    }
   ],
   "source": [
    "!qiime classo summarize \\\n",
    "  --i-problem regresstaxa.qza \\\n",
    "  --i-taxa classification.qza \\\n",
    "  --i-predictions regress-predictions.qza \\\n",
    "  --o-visualization regresstaxa_R3.qzv"
   ]
  },
  {
   "cell_type": "code",
   "execution_count": 44,
   "metadata": {
    "ExecuteTime": {
     "end_time": "2021-07-15T17:59:39.267785Z",
     "start_time": "2021-07-15T17:59:17.857817Z"
    },
    "scrolled": true,
    "tags": []
   },
   "outputs": [
    {
     "name": "stdout",
     "output_type": "stream",
     "text": [
      "\u001b[32mSaved Visualization to: classifytaxa_C2.qzv\u001b[0m\n"
     ]
    }
   ],
   "source": [
    "!qiime classo summarize \\\n",
    "  --i-problem classifytaxa.qza \\\n",
    "  --i-taxa classification.qza \\\n",
    "  --i-predictions classify-predictions.qza \\\n",
    "  --o-visualization classifytaxa_C2.qzv"
   ]
  },
  {
   "cell_type": "markdown",
   "metadata": {},
   "source": [
    "Drag&drop .qzv files on : https://view.qiime2.org\n",
    "Thanks to this alternative, one can also track the workflow that the qiime2 artifact did. "
   ]
  }
 ],
 "metadata": {
  "kernelspec": {
   "display_name": "Python 3 (ipykernel)",
   "language": "python",
   "name": "python3"
  },
  "language_info": {
   "codemirror_mode": {
    "name": "ipython",
    "version": 3
   },
   "file_extension": ".py",
   "mimetype": "text/x-python",
   "name": "python",
   "nbconvert_exporter": "python",
   "pygments_lexer": "ipython3",
   "version": "3.8.8"
  },
  "toc": {
   "base_numbering": 1,
   "nav_menu": {},
   "number_sections": true,
   "sideBar": true,
   "skip_h1_title": false,
   "title_cell": "Table of Contents",
   "title_sidebar": "Contents",
   "toc_cell": false,
   "toc_position": {},
   "toc_section_display": true,
   "toc_window_display": false
  }
 },
 "nbformat": 4,
 "nbformat_minor": 4
}
